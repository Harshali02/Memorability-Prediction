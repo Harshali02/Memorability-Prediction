{
 "cells": [
  {
   "cell_type": "markdown",
   "metadata": {},
   "source": [
    "# Importing Libraries"
   ]
  },
  {
   "cell_type": "code",
   "execution_count": 2,
   "metadata": {},
   "outputs": [],
   "source": [
    "import pandas as pd\n",
    "import nltk\n",
    "import numpy as np\n",
    "import joblib\n",
    "\n",
    "from nltk.tokenize import sent_tokenize, word_tokenize\n",
    "from nltk.corpus import stopwords\n",
    "''''from nltk.stem.lancaster import LancasterStemmer'''\n",
    "from nltk.stem import WordNetLemmatizer\n",
    "from nltk.corpus import wordnet\n",
    "''''from sklearn.feature_extraction.text import CountVectorizer'''\n",
    "from sklearn.feature_extraction.text import TfidfVectorizer\n",
    "from sklearn.model_selection import train_test_split\n",
    "from sklearn.metrics import mean_squared_error\n",
    "from math import sqrt\n",
    "import matplotlib.pyplot as plt"
   ]
  },
  {
   "cell_type": "code",
   "execution_count": 3,
   "metadata": {},
   "outputs": [],
   "source": [
    "# for reproducability\n",
    "from numpy.random import seed\n",
    "seed(1)\n",
    "from tensorflow import set_random_seed\n",
    "set_random_seed(1)"
   ]
  },
  {
   "cell_type": "markdown",
   "metadata": {},
   "source": [
    "# Reading datasets"
   ]
  },
  {
   "cell_type": "code",
   "execution_count": 6,
   "metadata": {},
   "outputs": [
    {
     "name": "stdout",
     "output_type": "stream",
     "text": [
      "['video', 'short-term_memorability', 'nb_short-term_annotations', 'long-term_memorability', 'nb_long-term_annotations']\n"
     ]
    }
   ],
   "source": [
    "ground_truth=pd.read_csv('dev-set_ground-truth.csv')\n",
    "caption=pd.read_csv('dev-set_video-captions.csv')\n",
    "print(list(ground_truth.columns.values))"
   ]
  },
  {
   "cell_type": "markdown",
   "metadata": {},
   "source": [
    "# Merging Files"
   ]
  },
  {
   "cell_type": "code",
   "execution_count": 7,
   "metadata": {
    "scrolled": true
   },
   "outputs": [
    {
     "data": {
      "text/html": [
       "<div>\n",
       "<style scoped>\n",
       "    .dataframe tbody tr th:only-of-type {\n",
       "        vertical-align: middle;\n",
       "    }\n",
       "\n",
       "    .dataframe tbody tr th {\n",
       "        vertical-align: top;\n",
       "    }\n",
       "\n",
       "    .dataframe thead th {\n",
       "        text-align: right;\n",
       "    }\n",
       "</style>\n",
       "<table border=\"1\" class=\"dataframe\">\n",
       "  <thead>\n",
       "    <tr style=\"text-align: right;\">\n",
       "      <th></th>\n",
       "      <th>video</th>\n",
       "      <th>short-term_memorability</th>\n",
       "      <th>nb_short-term_annotations</th>\n",
       "      <th>long-term_memorability</th>\n",
       "      <th>nb_long-term_annotations</th>\n",
       "      <th>caption</th>\n",
       "    </tr>\n",
       "  </thead>\n",
       "  <tbody>\n",
       "    <tr>\n",
       "      <th>0</th>\n",
       "      <td>video3.webm</td>\n",
       "      <td>0.924</td>\n",
       "      <td>34</td>\n",
       "      <td>0.846</td>\n",
       "      <td>13</td>\n",
       "      <td>blonde-woman-is-massaged-tilt-down</td>\n",
       "    </tr>\n",
       "    <tr>\n",
       "      <th>1</th>\n",
       "      <td>video4.webm</td>\n",
       "      <td>0.923</td>\n",
       "      <td>33</td>\n",
       "      <td>0.667</td>\n",
       "      <td>12</td>\n",
       "      <td>roulette-table-spinning-with-ball-in-closeup-shot</td>\n",
       "    </tr>\n",
       "    <tr>\n",
       "      <th>2</th>\n",
       "      <td>video6.webm</td>\n",
       "      <td>0.863</td>\n",
       "      <td>33</td>\n",
       "      <td>0.700</td>\n",
       "      <td>10</td>\n",
       "      <td>khr-gangsters</td>\n",
       "    </tr>\n",
       "    <tr>\n",
       "      <th>3</th>\n",
       "      <td>video8.webm</td>\n",
       "      <td>0.922</td>\n",
       "      <td>33</td>\n",
       "      <td>0.818</td>\n",
       "      <td>11</td>\n",
       "      <td>medical-helicopter-hovers-at-airport</td>\n",
       "    </tr>\n",
       "    <tr>\n",
       "      <th>4</th>\n",
       "      <td>video10.webm</td>\n",
       "      <td>0.950</td>\n",
       "      <td>34</td>\n",
       "      <td>0.900</td>\n",
       "      <td>10</td>\n",
       "      <td>couple-relaxing-on-picnic-crane-shot</td>\n",
       "    </tr>\n",
       "    <tr>\n",
       "      <th>5</th>\n",
       "      <td>video12.webm</td>\n",
       "      <td>0.783</td>\n",
       "      <td>74</td>\n",
       "      <td>0.750</td>\n",
       "      <td>12</td>\n",
       "      <td>passing-by-older-man-reading</td>\n",
       "    </tr>\n",
       "    <tr>\n",
       "      <th>6</th>\n",
       "      <td>video13.webm</td>\n",
       "      <td>0.861</td>\n",
       "      <td>40</td>\n",
       "      <td>0.700</td>\n",
       "      <td>10</td>\n",
       "      <td>christmas-village-and-national-christmas-tree</td>\n",
       "    </tr>\n",
       "    <tr>\n",
       "      <th>7</th>\n",
       "      <td>video16.webm</td>\n",
       "      <td>0.834</td>\n",
       "      <td>33</td>\n",
       "      <td>0.857</td>\n",
       "      <td>14</td>\n",
       "      <td>unhappy-friends-looking-for-something-interest...</td>\n",
       "    </tr>\n",
       "    <tr>\n",
       "      <th>8</th>\n",
       "      <td>video17.webm</td>\n",
       "      <td>0.777</td>\n",
       "      <td>43</td>\n",
       "      <td>1.000</td>\n",
       "      <td>11</td>\n",
       "      <td>hoover-dam-tourists-traffic</td>\n",
       "    </tr>\n",
       "    <tr>\n",
       "      <th>9</th>\n",
       "      <td>video18.webm</td>\n",
       "      <td>0.863</td>\n",
       "      <td>33</td>\n",
       "      <td>1.000</td>\n",
       "      <td>9</td>\n",
       "      <td>happy-girl-stretching-and-relaxing-on-the-station</td>\n",
       "    </tr>\n",
       "  </tbody>\n",
       "</table>\n",
       "</div>"
      ],
      "text/plain": [
       "          video  short-term_memorability  nb_short-term_annotations  \\\n",
       "0   video3.webm                    0.924                         34   \n",
       "1   video4.webm                    0.923                         33   \n",
       "2   video6.webm                    0.863                         33   \n",
       "3   video8.webm                    0.922                         33   \n",
       "4  video10.webm                    0.950                         34   \n",
       "5  video12.webm                    0.783                         74   \n",
       "6  video13.webm                    0.861                         40   \n",
       "7  video16.webm                    0.834                         33   \n",
       "8  video17.webm                    0.777                         43   \n",
       "9  video18.webm                    0.863                         33   \n",
       "\n",
       "   long-term_memorability  nb_long-term_annotations  \\\n",
       "0                   0.846                        13   \n",
       "1                   0.667                        12   \n",
       "2                   0.700                        10   \n",
       "3                   0.818                        11   \n",
       "4                   0.900                        10   \n",
       "5                   0.750                        12   \n",
       "6                   0.700                        10   \n",
       "7                   0.857                        14   \n",
       "8                   1.000                        11   \n",
       "9                   1.000                         9   \n",
       "\n",
       "                                             caption  \n",
       "0                 blonde-woman-is-massaged-tilt-down  \n",
       "1  roulette-table-spinning-with-ball-in-closeup-shot  \n",
       "2                                      khr-gangsters  \n",
       "3               medical-helicopter-hovers-at-airport  \n",
       "4               couple-relaxing-on-picnic-crane-shot  \n",
       "5                       passing-by-older-man-reading  \n",
       "6      christmas-village-and-national-christmas-tree  \n",
       "7  unhappy-friends-looking-for-something-interest...  \n",
       "8                        hoover-dam-tourists-traffic  \n",
       "9  happy-girl-stretching-and-relaxing-on-the-station  "
      ]
     },
     "execution_count": 7,
     "metadata": {},
     "output_type": "execute_result"
    }
   ],
   "source": [
    "ground_truth_caption = pd.merge(ground_truth, caption, on = 'video')\n",
    "ground_truth_caption.head(10)"
   ]
  },
  {
   "cell_type": "markdown",
   "metadata": {},
   "source": [
    "# Function for Part of speech Tagging"
   ]
  },
  {
   "cell_type": "code",
   "execution_count": 8,
   "metadata": {},
   "outputs": [],
   "source": [
    "lemmatizer = WordNetLemmatizer() \n",
    "def get_wordnet_pos(word):\n",
    "    \"\"\"Map POS tag to first character lemmatize() accepts\"\"\"\n",
    "    tag = nltk.pos_tag([word])[0][1][0].upper()\n",
    "    tag_dict = {\"J\": wordnet.ADJ,\n",
    "                \"N\": wordnet.NOUN,\n",
    "                \"V\": wordnet.VERB,\n",
    "                \"R\": wordnet.ADV}\n",
    "\n",
    "    return tag_dict.get(tag, wordnet.NOUN)"
   ]
  },
  {
   "cell_type": "markdown",
   "metadata": {},
   "source": [
    "# Cleaning captions through tokenization, stopwords removal, lemmatization and POS"
   ]
  },
  {
   "cell_type": "code",
   "execution_count": 15,
   "metadata": {},
   "outputs": [
    {
     "data": {
      "text/html": [
       "<div>\n",
       "<style scoped>\n",
       "    .dataframe tbody tr th:only-of-type {\n",
       "        vertical-align: middle;\n",
       "    }\n",
       "\n",
       "    .dataframe tbody tr th {\n",
       "        vertical-align: top;\n",
       "    }\n",
       "\n",
       "    .dataframe thead th {\n",
       "        text-align: right;\n",
       "    }\n",
       "</style>\n",
       "<table border=\"1\" class=\"dataframe\">\n",
       "  <thead>\n",
       "    <tr style=\"text-align: right;\">\n",
       "      <th></th>\n",
       "      <th>video</th>\n",
       "      <th>short-term_memorability</th>\n",
       "      <th>nb_short-term_annotations</th>\n",
       "      <th>long-term_memorability</th>\n",
       "      <th>nb_long-term_annotations</th>\n",
       "      <th>caption</th>\n",
       "      <th>cleaned_caption</th>\n",
       "    </tr>\n",
       "  </thead>\n",
       "  <tbody>\n",
       "    <tr>\n",
       "      <th>0</th>\n",
       "      <td>video3.webm</td>\n",
       "      <td>0.924</td>\n",
       "      <td>34</td>\n",
       "      <td>0.846</td>\n",
       "      <td>13</td>\n",
       "      <td>blonde-woman-is-massaged-tilt-down</td>\n",
       "      <td>blonde woman massage tilt</td>\n",
       "    </tr>\n",
       "    <tr>\n",
       "      <th>1</th>\n",
       "      <td>video4.webm</td>\n",
       "      <td>0.923</td>\n",
       "      <td>33</td>\n",
       "      <td>0.667</td>\n",
       "      <td>12</td>\n",
       "      <td>roulette-table-spinning-with-ball-in-closeup-shot</td>\n",
       "      <td>roulette table spin ball closeup shot</td>\n",
       "    </tr>\n",
       "    <tr>\n",
       "      <th>2</th>\n",
       "      <td>video6.webm</td>\n",
       "      <td>0.863</td>\n",
       "      <td>33</td>\n",
       "      <td>0.700</td>\n",
       "      <td>10</td>\n",
       "      <td>khr-gangsters</td>\n",
       "      <td>khr gangster</td>\n",
       "    </tr>\n",
       "    <tr>\n",
       "      <th>3</th>\n",
       "      <td>video8.webm</td>\n",
       "      <td>0.922</td>\n",
       "      <td>33</td>\n",
       "      <td>0.818</td>\n",
       "      <td>11</td>\n",
       "      <td>medical-helicopter-hovers-at-airport</td>\n",
       "      <td>medical helicopter hovers airport</td>\n",
       "    </tr>\n",
       "    <tr>\n",
       "      <th>4</th>\n",
       "      <td>video10.webm</td>\n",
       "      <td>0.950</td>\n",
       "      <td>34</td>\n",
       "      <td>0.900</td>\n",
       "      <td>10</td>\n",
       "      <td>couple-relaxing-on-picnic-crane-shot</td>\n",
       "      <td>couple relax picnic crane shot</td>\n",
       "    </tr>\n",
       "    <tr>\n",
       "      <th>5</th>\n",
       "      <td>video12.webm</td>\n",
       "      <td>0.783</td>\n",
       "      <td>74</td>\n",
       "      <td>0.750</td>\n",
       "      <td>12</td>\n",
       "      <td>passing-by-older-man-reading</td>\n",
       "      <td>passing old man reading</td>\n",
       "    </tr>\n",
       "    <tr>\n",
       "      <th>6</th>\n",
       "      <td>video13.webm</td>\n",
       "      <td>0.861</td>\n",
       "      <td>40</td>\n",
       "      <td>0.700</td>\n",
       "      <td>10</td>\n",
       "      <td>christmas-village-and-national-christmas-tree</td>\n",
       "      <td>christmas village national christmas tree</td>\n",
       "    </tr>\n",
       "    <tr>\n",
       "      <th>7</th>\n",
       "      <td>video16.webm</td>\n",
       "      <td>0.834</td>\n",
       "      <td>33</td>\n",
       "      <td>0.857</td>\n",
       "      <td>14</td>\n",
       "      <td>unhappy-friends-looking-for-something-interest...</td>\n",
       "      <td>unhappy friend look something interest television</td>\n",
       "    </tr>\n",
       "    <tr>\n",
       "      <th>8</th>\n",
       "      <td>video17.webm</td>\n",
       "      <td>0.777</td>\n",
       "      <td>43</td>\n",
       "      <td>1.000</td>\n",
       "      <td>11</td>\n",
       "      <td>hoover-dam-tourists-traffic</td>\n",
       "      <td>hoover dam tourist traffic</td>\n",
       "    </tr>\n",
       "    <tr>\n",
       "      <th>9</th>\n",
       "      <td>video18.webm</td>\n",
       "      <td>0.863</td>\n",
       "      <td>33</td>\n",
       "      <td>1.000</td>\n",
       "      <td>9</td>\n",
       "      <td>happy-girl-stretching-and-relaxing-on-the-station</td>\n",
       "      <td>happy girl stretch relax station</td>\n",
       "    </tr>\n",
       "  </tbody>\n",
       "</table>\n",
       "</div>"
      ],
      "text/plain": [
       "          video  short-term_memorability  nb_short-term_annotations  \\\n",
       "0   video3.webm                    0.924                         34   \n",
       "1   video4.webm                    0.923                         33   \n",
       "2   video6.webm                    0.863                         33   \n",
       "3   video8.webm                    0.922                         33   \n",
       "4  video10.webm                    0.950                         34   \n",
       "5  video12.webm                    0.783                         74   \n",
       "6  video13.webm                    0.861                         40   \n",
       "7  video16.webm                    0.834                         33   \n",
       "8  video17.webm                    0.777                         43   \n",
       "9  video18.webm                    0.863                         33   \n",
       "\n",
       "   long-term_memorability  nb_long-term_annotations  \\\n",
       "0                   0.846                        13   \n",
       "1                   0.667                        12   \n",
       "2                   0.700                        10   \n",
       "3                   0.818                        11   \n",
       "4                   0.900                        10   \n",
       "5                   0.750                        12   \n",
       "6                   0.700                        10   \n",
       "7                   0.857                        14   \n",
       "8                   1.000                        11   \n",
       "9                   1.000                         9   \n",
       "\n",
       "                                             caption  \\\n",
       "0                 blonde-woman-is-massaged-tilt-down   \n",
       "1  roulette-table-spinning-with-ball-in-closeup-shot   \n",
       "2                                      khr-gangsters   \n",
       "3               medical-helicopter-hovers-at-airport   \n",
       "4               couple-relaxing-on-picnic-crane-shot   \n",
       "5                       passing-by-older-man-reading   \n",
       "6      christmas-village-and-national-christmas-tree   \n",
       "7  unhappy-friends-looking-for-something-interest...   \n",
       "8                        hoover-dam-tourists-traffic   \n",
       "9  happy-girl-stretching-and-relaxing-on-the-station   \n",
       "\n",
       "                                     cleaned_caption  \n",
       "0                          blonde woman massage tilt  \n",
       "1              roulette table spin ball closeup shot  \n",
       "2                                       khr gangster  \n",
       "3                  medical helicopter hovers airport  \n",
       "4                     couple relax picnic crane shot  \n",
       "5                            passing old man reading  \n",
       "6          christmas village national christmas tree  \n",
       "7  unhappy friend look something interest television  \n",
       "8                         hoover dam tourist traffic  \n",
       "9                   happy girl stretch relax station  "
      ]
     },
     "execution_count": 15,
     "metadata": {},
     "output_type": "execute_result"
    }
   ],
   "source": [
    "cleaned_caption=[]\n",
    "\n",
    "for index,row in ground_truth_caption.iterrows():\n",
    "    tokens=(row['caption'].split('-'))\n",
    "    stopWords = set(stopwords.words('english'))\n",
    "    rm_stopwords= [w for w in tokens if not w in stopWords]\n",
    "    ''''lanste = LancasterStemmer()\n",
    "    stemming = [lanste.stem(i) for i in rm_stopwords]'''\n",
    "    lemmatization=' '.join([lemmatizer.lemmatize(word , get_wordnet_pos(word)) for word in rm_stopwords if word])\n",
    "    cleaned_caption.append(lemmatization)\n",
    "ground_truth_caption['cleaned_caption']=pd.Series(cleaned_caption)\n",
    "ground_truth_caption.head(10)"
   ]
  },
  {
   "cell_type": "markdown",
   "metadata": {},
   "source": [
    "# Applying TF-IDF Vectorizer"
   ]
  },
  {
   "cell_type": "code",
   "execution_count": 16,
   "metadata": {},
   "outputs": [
    {
     "name": "stdout",
     "output_type": "stream",
     "text": [
      "1000\n",
      "[[0. 0. 0. ... 0. 0. 0.]\n",
      " [0. 0. 0. ... 0. 0. 0.]\n",
      " [0. 0. 0. ... 0. 0. 0.]\n",
      " ...\n",
      " [0. 0. 0. ... 0. 0. 0.]\n",
      " [0. 0. 0. ... 0. 0. 0.]\n",
      " [0. 0. 0. ... 0. 0. 0.]]\n"
     ]
    }
   ],
   "source": [
    "vectorizer=TfidfVectorizer(max_features=1000)\n",
    "response=vectorizer.fit_transform(ground_truth_caption.cleaned_caption).toarray()\n",
    "print(len(vectorizer.get_feature_names()))\n",
    "print(response)"
   ]
  },
  {
   "cell_type": "markdown",
   "metadata": {},
   "source": [
    "# Merging Vectorized caption in the ground truth"
   ]
  },
  {
   "cell_type": "code",
   "execution_count": 17,
   "metadata": {},
   "outputs": [
    {
     "name": "stdout",
     "output_type": "stream",
     "text": [
      "          video  short-term_memorability  nb_short-term_annotations  \\\n",
      "0   video3.webm                    0.924                         34   \n",
      "1   video4.webm                    0.923                         33   \n",
      "2   video6.webm                    0.863                         33   \n",
      "3   video8.webm                    0.922                         33   \n",
      "4  video10.webm                    0.950                         34   \n",
      "5  video12.webm                    0.783                         74   \n",
      "6  video13.webm                    0.861                         40   \n",
      "7  video16.webm                    0.834                         33   \n",
      "8  video17.webm                    0.777                         43   \n",
      "9  video18.webm                    0.863                         33   \n",
      "\n",
      "   long-term_memorability  nb_long-term_annotations  \\\n",
      "0                   0.846                        13   \n",
      "1                   0.667                        12   \n",
      "2                   0.700                        10   \n",
      "3                   0.818                        11   \n",
      "4                   0.900                        10   \n",
      "5                   0.750                        12   \n",
      "6                   0.700                        10   \n",
      "7                   0.857                        14   \n",
      "8                   1.000                        11   \n",
      "9                   1.000                         9   \n",
      "\n",
      "                                             caption  \\\n",
      "0                 blonde-woman-is-massaged-tilt-down   \n",
      "1  roulette-table-spinning-with-ball-in-closeup-shot   \n",
      "2                                      khr-gangsters   \n",
      "3               medical-helicopter-hovers-at-airport   \n",
      "4               couple-relaxing-on-picnic-crane-shot   \n",
      "5                       passing-by-older-man-reading   \n",
      "6      christmas-village-and-national-christmas-tree   \n",
      "7  unhappy-friends-looking-for-something-interest...   \n",
      "8                        hoover-dam-tourists-traffic   \n",
      "9  happy-girl-stretching-and-relaxing-on-the-station   \n",
      "\n",
      "                                     cleaned_caption  \\\n",
      "0                          blonde woman massage tilt   \n",
      "1              roulette table spin ball closeup shot   \n",
      "2                                       khr gangster   \n",
      "3                  medical helicopter hovers airport   \n",
      "4                     couple relax picnic crane shot   \n",
      "5                            passing old man reading   \n",
      "6          christmas village national christmas tree   \n",
      "7  unhappy friend look something interest television   \n",
      "8                         hoover dam tourist traffic   \n",
      "9                   happy girl stretch relax station   \n",
      "\n",
      "                                  Vectorized_Caption  \n",
      "0  [0.0, 0.0, 0.0, 0.0, 0.0, 0.0, 0.0, 0.0, 0.0, ...  \n",
      "1  [0.0, 0.0, 0.0, 0.0, 0.0, 0.0, 0.0, 0.0, 0.0, ...  \n",
      "2  [0.0, 0.0, 0.0, 0.0, 0.0, 0.0, 0.0, 0.0, 0.0, ...  \n",
      "3  [0.0, 0.0, 0.0, 0.0, 0.0, 0.0, 0.0, 0.0, 0.0, ...  \n",
      "4  [0.0, 0.0, 0.0, 0.0, 0.0, 0.0, 0.0, 0.0, 0.0, ...  \n",
      "5  [0.0, 0.0, 0.0, 0.0, 0.0, 0.0, 0.0, 0.0, 0.0, ...  \n",
      "6  [0.0, 0.0, 0.0, 0.0, 0.0, 0.0, 0.0, 0.0, 0.0, ...  \n",
      "7  [0.0, 0.0, 0.0, 0.0, 0.0, 0.0, 0.0, 0.0, 0.0, ...  \n",
      "8  [0.0, 0.0, 0.0, 0.0, 0.0, 0.0, 0.0, 0.0, 0.0, ...  \n",
      "9  [0.0, 0.0, 0.0, 0.0, 0.0, 0.0, 0.0, 0.0, 0.0, ...  \n"
     ]
    }
   ],
   "source": [
    "ground_truth_caption['Vectorized_Caption']=pd.Series(response.tolist())\n",
    "print(ground_truth_caption.head(10))"
   ]
  },
  {
   "cell_type": "markdown",
   "metadata": {},
   "source": [
    "# Function for calculating Spearmann's correlation coefficient"
   ]
  },
  {
   "cell_type": "code",
   "execution_count": 18,
   "metadata": {},
   "outputs": [],
   "source": [
    "def Get_score(Y_pred,Y_true):\n",
    "    '''Calculate the Spearmann\"s correlation coefficient'''\n",
    "    Y_pred = np.squeeze(Y_pred)\n",
    "    Y_true = np.squeeze(Y_true)\n",
    "    if Y_pred.shape != Y_true.shape:\n",
    "        print('Input shapes don\\'t match!')\n",
    "    else:\n",
    "        if len(Y_pred.shape) == 1:\n",
    "            Res = pd.DataFrame({'Y_true':Y_true,'Y_pred':Y_pred})\n",
    "            score_mat = Res[['Y_true','Y_pred']].corr(method='spearman',min_periods=1)\n",
    "            print('The Spearman\\'s correlation coefficient is: %.3f' % score_mat.iloc[1][0])\n",
    "        else:\n",
    "            for ii in range(Y_pred.shape[1]):\n",
    "                Get_score(Y_pred[:,ii],Y_true[:,ii])"
   ]
  },
  {
   "cell_type": "markdown",
   "metadata": {},
   "source": [
    "# Function for visualizing the acutual score and predicted score"
   ]
  },
  {
   "cell_type": "code",
   "execution_count": 19,
   "metadata": {},
   "outputs": [],
   "source": [
    "def visualize_pred(y_pred, y_test,model_name,key):\n",
    "    \"\"\"\n",
    "        Visualize predicted result for 100 randomly selected samples\n",
    "    \"\"\"\n",
    "    vis_lst = [i for i in range(len(y_pred))]\n",
    "    np.random.shuffle(vis_lst)\n",
    "    y_test = y_test.reset_index()\n",
    "\n",
    "    fig, ax = plt.subplots(figsize=(12,3))\n",
    "    ax.set(xlabel='Samples', ylabel='Memorability_Score',\n",
    "           title='Predicted and Actual score comparison on 100 random samples using ' + model_name)\n",
    "    ax.plot(range(len(y_pred[vis_lst[:100]])),y_pred[vis_lst[:100]])\n",
    "    if(key=='short-term_memorability'):\n",
    "      ax.plot(range(len(y_test.loc[vis_lst[:100],'short-term_memorability'])),y_test.loc[vis_lst[:100],'short-term_memorability'])\n",
    "      \n",
    "    if(key=='long-term_memorability'):\n",
    "      ax.plot(range(len(y_test.loc[vis_lst[:100],'long-term_memorability'])),y_test.loc[vis_lst[:100],'long-term_memorability'])\n",
    "    \n",
    "    ax.legend(('Predicted Score', 'Actual Score'),\n",
    "               loc='upper left')\n",
    "    ax.grid(),\n",
    "    plt.show()"
   ]
  },
  {
   "cell_type": "markdown",
   "metadata": {},
   "source": [
    "# Assigning X and Y for short-term memorability"
   ]
  },
  {
   "cell_type": "code",
   "execution_count": 20,
   "metadata": {},
   "outputs": [
    {
     "name": "stdout",
     "output_type": "stream",
     "text": [
      "     0    1    2    3    4    5    6    7    8    9  \\\n",
      "0  0.0  0.0  0.0  0.0  0.0  0.0  0.0  0.0  0.0  0.0   \n",
      "1  0.0  0.0  0.0  0.0  0.0  0.0  0.0  0.0  0.0  0.0   \n",
      "2  0.0  0.0  0.0  0.0  0.0  0.0  0.0  0.0  0.0  0.0   \n",
      "3  0.0  0.0  0.0  0.0  0.0  0.0  0.0  0.0  0.0  0.0   \n",
      "4  0.0  0.0  0.0  0.0  0.0  0.0  0.0  0.0  0.0  0.0   \n",
      "5  0.0  0.0  0.0  0.0  0.0  0.0  0.0  0.0  0.0  0.0   \n",
      "6  0.0  0.0  0.0  0.0  0.0  0.0  0.0  0.0  0.0  0.0   \n",
      "7  0.0  0.0  0.0  0.0  0.0  0.0  0.0  0.0  0.0  0.0   \n",
      "8  0.0  0.0  0.0  0.0  0.0  0.0  0.0  0.0  0.0  0.0   \n",
      "9  0.0  0.0  0.0  0.0  0.0  0.0  0.0  0.0  0.0  0.0   \n",
      "\n",
      "             ...              991  992  993  994  995  996  997  998  999  \\\n",
      "0            ...              0.0  0.0  0.0  0.0  0.0  0.0  0.0  0.0  0.0   \n",
      "1            ...              0.0  0.0  0.0  0.0  0.0  0.0  0.0  0.0  0.0   \n",
      "2            ...              0.0  0.0  0.0  0.0  0.0  0.0  0.0  0.0  0.0   \n",
      "3            ...              0.0  0.0  0.0  0.0  0.0  0.0  0.0  0.0  0.0   \n",
      "4            ...              0.0  0.0  0.0  0.0  0.0  0.0  0.0  0.0  0.0   \n",
      "5            ...              0.0  0.0  0.0  0.0  0.0  0.0  0.0  0.0  0.0   \n",
      "6            ...              0.0  0.0  0.0  0.0  0.0  0.0  0.0  0.0  0.0   \n",
      "7            ...              0.0  0.0  0.0  0.0  0.0  0.0  0.0  0.0  0.0   \n",
      "8            ...              0.0  0.0  0.0  0.0  0.0  0.0  0.0  0.0  0.0   \n",
      "9            ...              0.0  0.0  0.0  0.0  0.0  0.0  0.0  0.0  0.0   \n",
      "\n",
      "   nb_short-term_annotations  \n",
      "0                         34  \n",
      "1                         33  \n",
      "2                         33  \n",
      "3                         33  \n",
      "4                         34  \n",
      "5                         74  \n",
      "6                         40  \n",
      "7                         33  \n",
      "8                         43  \n",
      "9                         33  \n",
      "\n",
      "[10 rows x 1001 columns]\n",
      "      short-term_memorability\n",
      "0                       0.924\n",
      "1                       0.923\n",
      "2                       0.863\n",
      "3                       0.922\n",
      "4                       0.950\n",
      "5                       0.783\n",
      "6                       0.861\n",
      "7                       0.834\n",
      "8                       0.777\n",
      "9                       0.863\n",
      "10                      0.980\n",
      "11                      0.955\n",
      "12                      0.830\n",
      "13                      0.859\n",
      "14                      0.923\n",
      "15                      0.660\n",
      "16                      0.863\n",
      "17                      0.388\n",
      "18                      0.788\n",
      "19                      0.920\n",
      "20                      0.954\n",
      "21                      0.923\n",
      "22                      0.772\n",
      "23                      0.814\n",
      "24                      0.862\n",
      "25                      0.861\n",
      "26                      0.822\n",
      "27                      0.835\n",
      "28                      0.840\n",
      "29                      0.900\n",
      "...                       ...\n",
      "5970                    0.799\n",
      "5971                    0.840\n",
      "5972                    0.983\n",
      "5973                    0.836\n",
      "5974                    0.863\n",
      "5975                    0.748\n",
      "5976                    0.952\n",
      "5977                    0.980\n",
      "5978                    0.894\n",
      "5979                    0.719\n",
      "5980                    0.807\n",
      "5981                    0.865\n",
      "5982                    0.864\n",
      "5983                    0.922\n",
      "5984                    0.828\n",
      "5985                    0.842\n",
      "5986                    0.741\n",
      "5987                    0.927\n",
      "5988                    0.892\n",
      "5989                    0.839\n",
      "5990                    0.889\n",
      "5991                    0.923\n",
      "5992                    0.812\n",
      "5993                    0.922\n",
      "5994                    0.800\n",
      "5995                    0.921\n",
      "5996                    0.909\n",
      "5997                    0.713\n",
      "5998                    0.954\n",
      "5999                    0.953\n",
      "\n",
      "[6000 rows x 1 columns]\n"
     ]
    }
   ],
   "source": [
    "X=ground_truth_caption['Vectorized_Caption'].tolist()\n",
    "X=pd.DataFrame(X)\n",
    "X['nb_short-term_annotations']=pd.Series(ground_truth_caption['nb_short-term_annotations'])\n",
    "Y=pd.DataFrame(ground_truth_caption['short-term_memorability'])\n",
    "print(X.head(10))\n",
    "print(Y)"
   ]
  },
  {
   "cell_type": "markdown",
   "metadata": {},
   "source": [
    "# Dividing the Data into Test and Train Data in 80% and 20% respectively"
   ]
  },
  {
   "cell_type": "code",
   "execution_count": 21,
   "metadata": {},
   "outputs": [],
   "source": [
    "from sklearn.model_selection import train_test_split\n",
    "from sklearn.metrics import accuracy_score\n",
    "\n",
    "seed = 7\n",
    "test_size = 0.2\n",
    "X_train, X_test, y_train, y_test = train_test_split(X, Y, test_size=test_size, random_state=seed)"
   ]
  },
  {
   "cell_type": "markdown",
   "metadata": {},
   "source": [
    "# Standard Deviation of train and test data for short term memorability"
   ]
  },
  {
   "cell_type": "code",
   "execution_count": 22,
   "metadata": {},
   "outputs": [
    {
     "name": "stdout",
     "output_type": "stream",
     "text": [
      "short-term_memorability    0.081254\n",
      "dtype: float64\n",
      "short-term_memorability    0.078168\n",
      "dtype: float64\n"
     ]
    }
   ],
   "source": [
    "print(np.std(y_train))\n",
    "print(np.std(y_test))"
   ]
  },
  {
   "cell_type": "markdown",
   "metadata": {},
   "source": [
    "# Applying XGBoost Model to get Rmse and Spearman's correlation coefficient for short term memorability"
   ]
  },
  {
   "cell_type": "code",
   "execution_count": 23,
   "metadata": {},
   "outputs": [
    {
     "name": "stdout",
     "output_type": "stream",
     "text": [
      "RMSE =  0.0720170407932995\n",
      "The Spearman's correlation coefficient is: 0.401\n"
     ]
    },
    {
     "data": {
      "image/png": "[encoded data removed]",
      "text/plain": [
       "<Figure size 864x216 with 1 Axes>"
      ]
     },
     "metadata": {
      "needs_background": "light"
     },
     "output_type": "display_data"
    }
   ],
   "source": [
    "from xgboost import XGBRegressor\n",
    "short_term_opt_params = {'booster' : 'gbtree', 'max_depth' : 10, 'n_estimator' : 1000}\n",
    "xgb_short = XGBRegressor(**short_term_opt_params)\n",
    "xgb_short.fit(X_train, y_train, eval_metric = 'rmse')\n",
    "y_pred_short = xgb_short.predict(X_test)\n",
    "#print('RMSE = ',cal_rmse(y_pred_short, y_test))\n",
    "rms = sqrt(mean_squared_error(y_test, y_pred_short))\n",
    "print('RMSE = ',rms)\n",
    "Get_score(y_pred_short, y_test)\n",
    "#print('RMSE = ',np.sqrt(np.sum((y_pred_short - y_test)**2 / len(y_pred_short))))\n",
    "visualize_pred(y_pred_short, y_test, 'XG Boost Regressor','short-term_memorability')"
   ]
  },
  {
   "cell_type": "markdown",
   "metadata": {},
   "source": [
    "# Assigning X and Y for long term memorability"
   ]
  },
  {
   "cell_type": "code",
   "execution_count": 24,
   "metadata": {},
   "outputs": [
    {
     "name": "stdout",
     "output_type": "stream",
     "text": [
      "     0    1    2    3    4    5    6    7    8    9            ...             \\\n",
      "0  0.0  0.0  0.0  0.0  0.0  0.0  0.0  0.0  0.0  0.0            ...              \n",
      "1  0.0  0.0  0.0  0.0  0.0  0.0  0.0  0.0  0.0  0.0            ...              \n",
      "2  0.0  0.0  0.0  0.0  0.0  0.0  0.0  0.0  0.0  0.0            ...              \n",
      "3  0.0  0.0  0.0  0.0  0.0  0.0  0.0  0.0  0.0  0.0            ...              \n",
      "4  0.0  0.0  0.0  0.0  0.0  0.0  0.0  0.0  0.0  0.0            ...              \n",
      "5  0.0  0.0  0.0  0.0  0.0  0.0  0.0  0.0  0.0  0.0            ...              \n",
      "6  0.0  0.0  0.0  0.0  0.0  0.0  0.0  0.0  0.0  0.0            ...              \n",
      "7  0.0  0.0  0.0  0.0  0.0  0.0  0.0  0.0  0.0  0.0            ...              \n",
      "8  0.0  0.0  0.0  0.0  0.0  0.0  0.0  0.0  0.0  0.0            ...              \n",
      "9  0.0  0.0  0.0  0.0  0.0  0.0  0.0  0.0  0.0  0.0            ...              \n",
      "\n",
      "   991  992  993  994  995  996  997  998  999  nb_long-term_annotations  \n",
      "0  0.0  0.0  0.0  0.0  0.0  0.0  0.0  0.0  0.0                        13  \n",
      "1  0.0  0.0  0.0  0.0  0.0  0.0  0.0  0.0  0.0                        12  \n",
      "2  0.0  0.0  0.0  0.0  0.0  0.0  0.0  0.0  0.0                        10  \n",
      "3  0.0  0.0  0.0  0.0  0.0  0.0  0.0  0.0  0.0                        11  \n",
      "4  0.0  0.0  0.0  0.0  0.0  0.0  0.0  0.0  0.0                        10  \n",
      "5  0.0  0.0  0.0  0.0  0.0  0.0  0.0  0.0  0.0                        12  \n",
      "6  0.0  0.0  0.0  0.0  0.0  0.0  0.0  0.0  0.0                        10  \n",
      "7  0.0  0.0  0.0  0.0  0.0  0.0  0.0  0.0  0.0                        14  \n",
      "8  0.0  0.0  0.0  0.0  0.0  0.0  0.0  0.0  0.0                        11  \n",
      "9  0.0  0.0  0.0  0.0  0.0  0.0  0.0  0.0  0.0                         9  \n",
      "\n",
      "[10 rows x 1001 columns]\n"
     ]
    }
   ],
   "source": [
    "X=ground_truth_caption['Vectorized_Caption'].tolist()\n",
    "X=pd.DataFrame(X)\n",
    "X['nb_long-term_annotations']=pd.Series(ground_truth_caption['nb_long-term_annotations'])\n",
    "Y=pd.DataFrame(ground_truth_caption['long-term_memorability'])\n",
    "print(X.head(10))"
   ]
  },
  {
   "cell_type": "markdown",
   "metadata": {},
   "source": [
    "# Standard deviation of test and train dataset for long term memorability"
   ]
  },
  {
   "cell_type": "code",
   "execution_count": 25,
   "metadata": {},
   "outputs": [
    {
     "name": "stdout",
     "output_type": "stream",
     "text": [
      "long-term_memorability    0.145299\n",
      "dtype: float64\n",
      "long-term_memorability    0.142112\n",
      "dtype: float64\n"
     ]
    }
   ],
   "source": [
    "X_train, X_test, y_train, y_test = train_test_split(X, Y, test_size=test_size, random_state=seed)\n",
    "print(np.std(y_train))\n",
    "print(np.std(y_test))"
   ]
  },
  {
   "cell_type": "markdown",
   "metadata": {},
   "source": [
    "# Applying XGBoost to calculate RMSE and Spearman's correlation coefficient for long term memorability"
   ]
  },
  {
   "cell_type": "code",
   "execution_count": 26,
   "metadata": {},
   "outputs": [
    {
     "name": "stdout",
     "output_type": "stream",
     "text": [
      "RMSE =  0.14063287291445595\n",
      "The Spearman's correlation coefficient is: 0.193\n"
     ]
    },
    {
     "data": {
      "image/png": "[encoded data removed]",
      "text/plain": [
       "<Figure size 864x216 with 1 Axes>"
      ]
     },
     "metadata": {
      "needs_background": "light"
     },
     "output_type": "display_data"
    }
   ],
   "source": [
    "long_term_opt_params = {'booster' : 'gbtree', 'max_depth' : 4, 'n_estimator' : 1000}\n",
    "xgb_long = XGBRegressor(**long_term_opt_params)\n",
    "xgb_long.fit(X_train, y_train, eval_metric = 'rmse')\n",
    "y_pred_long = xgb_long.predict(X_test)\n",
    "#print('RMSE = ',cal_rmse(y_pred_short, y_test))\n",
    "rms = sqrt(mean_squared_error(y_test, y_pred_long))\n",
    "print('RMSE = ',rms)\n",
    "Get_score(y_pred_long, y_test)\n",
    "#print('RMSE = ',np.sqrt(np.sum((y_pred_short - y_test)**2 / len(y_pred_short))))\n",
    "visualize_pred(y_pred_long, y_test, 'XG Boost Regressor','long-term_memorability')"
   ]
  },
  {
   "cell_type": "markdown",
   "metadata": {},
   "source": [
    "# Saving model for both short and long term memorability"
   ]
  },
  {
   "cell_type": "code",
   "execution_count": 29,
   "metadata": {},
   "outputs": [
    {
     "data": {
      "text/plain": [
       "['Model/xgb_long.xgb']"
      ]
     },
     "execution_count": 29,
     "metadata": {},
     "output_type": "execute_result"
    }
   ],
   "source": [
    "joblib.dump(xgb_short, 'Model/xgb_short.xgb')\n",
    "joblib.dump(xgb_long, 'Model/xgb_long.xgb')"
   ]
  }
 ],
 "metadata": {
  "kernelspec": {
   "display_name": "Python 3",
   "language": "python",
   "name": "python3"
  },
  "language_info": {
   "codemirror_mode": {
    "name": "ipython",
    "version": 3
   },
   "file_extension": ".py",
   "mimetype": "text/x-python",
   "name": "python",
   "nbconvert_exporter": "python",
   "pygments_lexer": "ipython3",
   "version": "3.7.0"
  }
 },
 "nbformat": 4,
 "nbformat_minor": 2
}
